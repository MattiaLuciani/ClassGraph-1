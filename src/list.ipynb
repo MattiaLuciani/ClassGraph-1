{
 "cells": [
  {
   "cell_type": "code",
   "execution_count": 34,
   "id": "86452b8b-fd65-41dd-9171-c483390d7e20",
   "metadata": {},
   "outputs": [],
   "source": [
    "list = [1, 2, 3, 4, [5, 6, 7, 8, [9, 0]]]"
   ]
  },
  {
   "cell_type": "code",
   "execution_count": 37,
   "id": "093208c7-d8ae-4016-8d4e-41aa0062da1f",
   "metadata": {},
   "outputs": [
    {
     "name": "stdout",
     "output_type": "stream",
     "text": [
      "[9, 0]\n"
     ]
    }
   ],
   "source": [
    "print(list[-1][4])"
   ]
  },
  {
   "cell_type": "code",
   "execution_count": 32,
   "id": "cf5f56bb-fdf9-4afc-af8b-3eefe537305b",
   "metadata": {},
   "outputs": [
    {
     "ename": "TypeError",
     "evalue": "'int' object is not subscriptable",
     "output_type": "error",
     "traceback": [
      "\u001b[0;31m---------------------------------------------------------------------------\u001b[0m",
      "\u001b[0;31mTypeError\u001b[0m                                 Traceback (most recent call last)",
      "\u001b[0;32m<ipython-input-32-2d26bb90aa05>\u001b[0m in \u001b[0;36m<module>\u001b[0;34m\u001b[0m\n\u001b[0;32m----> 1\u001b[0;31m \u001b[0mprint\u001b[0m\u001b[0;34m(\u001b[0m\u001b[0mlist\u001b[0m\u001b[0;34m[\u001b[0m\u001b[0;36m0\u001b[0m\u001b[0;34m]\u001b[0m\u001b[0;34m[\u001b[0m\u001b[0;36m40\u001b[0m\u001b[0;34m]\u001b[0m\u001b[0;34m)\u001b[0m\u001b[0;34m\u001b[0m\u001b[0;34m\u001b[0m\u001b[0m\n\u001b[0m",
      "\u001b[0;31mTypeError\u001b[0m: 'int' object is not subscriptable"
     ]
    }
   ],
   "source": [
    "print(list[0][40])"
   ]
  },
  {
   "cell_type": "code",
   "execution_count": null,
   "id": "e10bcabd-6d80-4ed3-b802-251c213ad5f1",
   "metadata": {},
   "outputs": [],
   "source": [
    "with open('Users/mattialuciani/Desktop/codici-CIE.txt', 'r') as f:\n",
    "print(f)"
   ]
  },
  {
   "cell_type": "code",
   "execution_count": null,
   "id": "9b5f015f-c134-4cd4-ba93-b0fa14cfcfb0",
   "metadata": {},
   "outputs": [],
   "source": [
    "with os.scandir('Users/mattialuciani/Desktop/codici-CIE.txt') as entries:\n",
    "    for entry in entries:\n",
    "        print(entry.name)"
   ]
  },
  {
   "cell_type": "code",
   "execution_count": null,
   "id": "28972e9b-a572-4ad0-8f89-e424a21907f4",
   "metadata": {},
   "outputs": [],
   "source": [
    "fo = open(\"Users/mattialuciani/Desktop/codici-CIE.txt\", \"r+\")\n",
    "print (\"Name of the file: \", fo.name)"
   ]
  },
  {
   "cell_type": "code",
   "execution_count": null,
   "id": "242bf824-2b0f-4cfd-8630-7da71beb70c4",
   "metadata": {},
   "outputs": [],
   "source": []
  },
  {
   "cell_type": "code",
   "execution_count": null,
   "id": "d2111e50-8e4e-43db-b0e0-154ed4f58cf3",
   "metadata": {},
   "outputs": [],
   "source": []
  }
 ],
 "metadata": {
  "kernelspec": {
   "display_name": "Python 3",
   "language": "python",
   "name": "python3"
  },
  "language_info": {
   "codemirror_mode": {
    "name": "ipython",
    "version": 3
   },
   "file_extension": ".py",
   "mimetype": "text/x-python",
   "name": "python",
   "nbconvert_exporter": "python",
   "pygments_lexer": "ipython3",
   "version": "3.9.5"
  }
 },
 "nbformat": 4,
 "nbformat_minor": 5
}
