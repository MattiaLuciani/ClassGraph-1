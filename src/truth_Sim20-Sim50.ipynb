{
 "cells": [
  {
   "cell_type": "code",
   "execution_count": 34,
   "id": "3f7999f9-18a8-4394-9ec6-938aaf3e296f",
   "metadata": {},
   "outputs": [],
   "source": [
    "import os, shutil\n",
    "\n",
    "name_file = []\n",
    "listfile = []\n",
    "num_file = 0\n",
    "list_num_reads = []\n",
    "c = 0\n",
    "\n",
    "directory = os.chdir(\"/Volumes/SSD 1/data_Sim/reads_1-50\")\n",
    "direct = \"/Volumes/SSD 1/data_Sim/reads_1-50/\"\n",
    "output_file = '/Users/mattialuciani/Desktop/università_magistrale/bioinformatics/tesi/truth_Sim_50'\n",
    "\n",
    "#list_TaxId20 = [749927, 861360, 438753, 264462, 442563, 1045858, 1265757, 203119, 945711, 525280, 1088879, 2243, 1195469, 105559, 61624, 314280, 1105097, 292459, 604354, 280]\n",
    "list_TaxId = [749927, 861360, 438753, 2026187, 264462, 367928, 442563, 1045858, 237561, 1265757, 290402, 212717, 203119, 945711, 243230, 254945, 525280, 411485, 1163730, 1088879, 393480, 888828, 731, 2243, 334390, 324831, 363253, 1006006, 420247, 1434109, 465515, 1195469, 710128, 105559, 61624, 314280, 242619, 1122981, 272943, 1105097, 452659, 585394, 559292, 411466, 680198, 292459, 604354, 595537, 1298595, 280]\n",
    "\n",
    "for name_file in os.listdir():\n",
    "    \n",
    "    if name_file.endswith('.fastq'):\n",
    "        listfile.append(name_file)\n",
    "        listfile.sort()\n",
    "        num_file = num_file + 1\n",
    "\n",
    "for i in range(num_file):\n",
    "        with open(direct + listfile[i], 'r') as file:\n",
    "            reads_number = 0\n",
    "            for line in file:\n",
    "                if line.startswith(\"G\") or line.startswith(\"A\") or line.startswith(\"C\") or line.startswith(\"T\"):\n",
    "                    reads_number = reads_number + 1\n",
    "        list_num_reads.append(reads_number)\n",
    "\n",
    "with open(output_file, mode='w') as out_file:\n",
    "\n",
    "    for k in range(num_file):\n",
    "        for i in range(list_num_reads[k]):\n",
    "            c = c + 1\n",
    "            out_file.write(\"S0R\" + str(c) + \"\\t\" + str(list_TaxId[k]) + \"\\n\")"
   ]
  },
  {
   "cell_type": "code",
   "execution_count": null,
   "id": "f24f0e72-ebdc-405f-baa6-b4db43206f3b",
   "metadata": {},
   "outputs": [],
   "source": []
  }
 ],
 "metadata": {
  "kernelspec": {
   "display_name": "Python 3",
   "language": "python",
   "name": "python3"
  },
  "language_info": {
   "codemirror_mode": {
    "name": "ipython",
    "version": 3
   },
   "file_extension": ".py",
   "mimetype": "text/x-python",
   "name": "python",
   "nbconvert_exporter": "python",
   "pygments_lexer": "ipython3",
   "version": "3.8.8"
  }
 },
 "nbformat": 4,
 "nbformat_minor": 5
}
