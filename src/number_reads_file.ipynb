{
 "cells": [
  {
   "cell_type": "code",
   "execution_count": 1,
   "id": "206d43f5-8634-44b6-a9a4-41291709328f",
   "metadata": {},
   "outputs": [
    {
     "name": "stdout",
     "output_type": "stream",
     "text": [
      "31168\n",
      "31017\n",
      "16349\n",
      "9675\n",
      "7300\n",
      "8057\n",
      "10617\n",
      "14510\n",
      "10056\n",
      "8508\n",
      "34874\n",
      "21618\n",
      "39740\n",
      "39029\n",
      "94013\n",
      "64041\n",
      "13507\n",
      "108579\n",
      "47207\n",
      "91585\n"
     ]
    }
   ],
   "source": [
    "#print lunghezza di ogni file \n",
    "import os, shutil\n",
    "\n",
    "name_file = []\n",
    "listfile = []\n",
    "\n",
    "directory = os.chdir(\"/Users/mattialuciani/Desktop/università_magistrale/bioinformatics/tesi/Sim_20/reads\")\n",
    "direct = \"/Users/mattialuciani/Desktop/università_magistrale/bioinformatics/tesi/Sim_20/reads/\"\n",
    "\n",
    "for name_file in os.listdir():\n",
    "    if name_file.endswith('.fastq'):\n",
    "        listfile.append(name_file)\n",
    "        listfile.sort()\n",
    "        \n",
    "\n",
    "for i in range(20):\n",
    "        with open(direct + listfile[i], 'r') as file:\n",
    "            c = 0\n",
    "            for line in file:\n",
    "                if line.startswith(\"G\") or line.startswith(\"A\") or line.startswith(\"C\") or line.startswith(\"T\"):\n",
    "                    c = c + 1\n",
    "        print(c)\n",
    "\n"
   ]
  },
  {
   "cell_type": "code",
   "execution_count": 12,
   "id": "895da521-9d37-4729-a9c3-571ebd852517",
   "metadata": {},
   "outputs": [],
   "source": [
    "\n"
   ]
  },
  {
   "cell_type": "code",
   "execution_count": null,
   "id": "7f233dce-ad38-41fd-9329-a4d2c278b002",
   "metadata": {},
   "outputs": [],
   "source": []
  }
 ],
 "metadata": {
  "kernelspec": {
   "display_name": "Python 3",
   "language": "python",
   "name": "python3"
  },
  "language_info": {
   "codemirror_mode": {
    "name": "ipython",
    "version": 3
   },
   "file_extension": ".py",
   "mimetype": "text/x-python",
   "name": "python",
   "nbconvert_exporter": "python",
   "pygments_lexer": "ipython3",
   "version": "3.8.8"
  }
 },
 "nbformat": 4,
 "nbformat_minor": 5
}
