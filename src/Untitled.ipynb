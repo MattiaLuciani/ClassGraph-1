{
 "cells": [
  {
   "cell_type": "code",
   "execution_count": 12,
   "id": "af7d61ba-af2b-4245-ba57-2f816c04b3f5",
   "metadata": {},
   "outputs": [
    {
     "name": "stdout",
     "output_type": "stream",
     "text": [
      "11842\n"
     ]
    }
   ],
   "source": [
    "asqg_file = '/Users/mattialuciani/Desktop/università_magistrale/bioinformatics/tesi/out_iter_DBKraken2/out_iter_Sim50_DBKraken2/LP/finale.res'\n",
    "c = 0\n",
    "with open(asqg_file, 'r') as file:\n",
    "    for line in file:\n",
    "        words = line.split()\n",
    "        if words[1] == '0':\n",
    "            c = c + 1\n",
    "print(c)\n",
    "\n"
   ]
  },
  {
   "cell_type": "code",
   "execution_count": null,
   "id": "cc38c548-3d89-4187-bd6e-9564d47f448b",
   "metadata": {},
   "outputs": [],
   "source": [
    "asqg_file = '/Users/mattialuciani/Desktop/università_magistrale/bioinformatics/tesi/minimap2_SRR7585901-5.asqg'\n",
    "c = 0\n",
    "label = []\n",
    "with open(asqg_file, 'r') as file:\n",
    "    for line in file:\n",
    "        words = line.split()\n"
   ]
  }
 ],
 "metadata": {
  "kernelspec": {
   "display_name": "Python 3",
   "language": "python",
   "name": "python3"
  },
  "language_info": {
   "codemirror_mode": {
    "name": "ipython",
    "version": 3
   },
   "file_extension": ".py",
   "mimetype": "text/x-python",
   "name": "python",
   "nbconvert_exporter": "python",
   "pygments_lexer": "ipython3",
   "version": "3.8.8"
  }
 },
 "nbformat": 4,
 "nbformat_minor": 5
}
