{
 "cells": [
  {
   "cell_type": "code",
   "execution_count": 97,
   "id": "b280e8ba-1334-4d15-92b1-0631202035ec",
   "metadata": {},
   "outputs": [
    {
     "name": "stdout",
     "output_type": "stream",
     "text": [
      "119853\n"
     ]
    }
   ],
   "source": [
    "\n",
    "asqg_file = '/Users/mattialuciani/Desktop/università_magistrale/bioinformatics/tesi/coverage-real/SRR7585901_strex.res'\n",
    "\n",
    "c = 0\n",
    "label = []\n",
    "with open(asqg_file, 'r') as file:\n",
    "    for line in file:\n",
    "        words = line.split()\n",
    "        label.append(words[1])\n",
    "        \n",
    "\n",
    "x = label.count('0')\n",
    "print(x)"
   ]
  },
  {
   "cell_type": "code",
   "execution_count": 101,
   "id": "9f77d4ec-79eb-454f-a026-ccaf3e7c0212",
   "metadata": {},
   "outputs": [
    {
     "data": {
      "text/plain": [
       "25.34719356507955"
      ]
     },
     "execution_count": 101,
     "metadata": {},
     "output_type": "execute_result"
    }
   ],
   "source": [
    "(193484/763335)*100"
   ]
  },
  {
   "cell_type": "code",
   "execution_count": 73,
   "id": "7b2e643e-dcca-4247-a3e1-e7c58c98ca0e",
   "metadata": {},
   "outputs": [
    {
     "name": "stdout",
     "output_type": "stream",
     "text": [
      "[('1308', 210114), ('1578', 193484), ('0', 125867), ('1587', 99786), ('1584', 80702), ('1301', 22958), ('9606', 5431), ('33958', 4632), ('131567', 2885), ('1224', 2813), ('186826', 1938), ('2', 1805), ('29397', 1633), ('1', 1502), ('1300', 1283), ('37105', 904), ('91061', 837), ('1206110', 734), ('176292', 464), ('1783272', 451)]\n"
     ]
    }
   ],
   "source": [
    "import collections\n",
    "\n",
    "#kraken2_SRR7585901_DBKraken2-001.res\n",
    "\n",
    "#asqg_file = '/Users/mattialuciani/Desktop/università_magistrale/bioinformatics/tesi/coverage-real/kraken2_SRR7585901_DBKraken2-001.res'\n",
    "#asqg_file = '/Users/mattialuciani/Desktop/università_magistrale/bioinformatics/tesi/coverage-real/RL1-001.res'\n",
    "asqg_file = '/Users/mattialuciani/Desktop/università_magistrale/bioinformatics/tesi/coverage-real/SRR7585901_DBKraken2-001.res'\n",
    "\n",
    "c = 0\n",
    "label = []\n",
    "with open(asqg_file, 'r') as file:\n",
    "    for line in file:\n",
    "        words = line.split()\n",
    "        label.append(words[1])\n",
    "    c = collections.Counter(label)\n",
    "#print(c.values())\n",
    "print(c.most_common(20))"
   ]
  },
  {
   "cell_type": "code",
   "execution_count": 64,
   "id": "e632fe29-e0ce-4639-9f5e-b082241b944f",
   "metadata": {},
   "outputs": [
    {
     "name": "stdout",
     "output_type": "stream",
     "text": [
      "[('1587', 203394), ('1308', 203337), ('0', 90442), ('29397', 37288), ('880633', 33596), ('1578', 28162), ('1584', 25673), ('9606', 24759), ('767456', 9316), ('326425', 8451), ('1301', 6786), ('888027', 6341), ('405566', 5822), ('1224', 5430), ('1585', 4969), ('767462', 4954), ('1435981', 4552), ('767455', 3085), ('1423823', 2874), ('83684', 2261), ('249265', 2224), ('1433288', 2192), ('176292', 2035), ('1433289', 1990), ('52242', 1925), ('1423145', 1322), ('37105', 1295), ('1435972', 1243), ('1343', 1216), ('1217420', 1123)]\n"
     ]
    }
   ],
   "source": [
    "import collections\n",
    "\n",
    "#kraken2_SRR7585901_DBKraken2.res\n",
    "\n",
    "#asqg_file = '/Users/mattialuciani/Desktop/università_magistrale/bioinformatics/tesi/coverage-real/kraken2_SRR7585901_DBKraken2.res'\n",
    "#asqg_file = '/Users/mattialuciani/Desktop/università_magistrale/bioinformatics/tesi/coverage-real/RL1.res'\n",
    "asqg_file = '/Users/mattialuciani/Desktop/università_magistrale/bioinformatics/tesi/coverage-real/RL3.res'\n",
    "c = 0\n",
    "label = []\n",
    "with open(asqg_file, 'r') as file:\n",
    "    for line in file:\n",
    "        words = line.split()\n",
    "        label.append(words[1])\n",
    "    c = collections.Counter(label)\n",
    "#print(c.values())\n",
    "print(c.most_common(30))"
   ]
  },
  {
   "cell_type": "code",
   "execution_count": 61,
   "id": "3fddfc9d-35ab-4c74-a73b-c7b9ea239cc6",
   "metadata": {},
   "outputs": [
    {
     "name": "stdout",
     "output_type": "stream",
     "text": [
      "90442\n"
     ]
    }
   ],
   "source": [
    "#asqg_file = '/Users/mattialuciani/Desktop/università_magistrale/bioinformatics/tesi/coverage-real/RL1.res'\n",
    "asqg_file = '/Users/mattialuciani/Desktop/università_magistrale/bioinformatics/tesi/coverage-real/RL3.res'\n",
    "\n",
    "c = 0\n",
    "label = []\n",
    "with open(asqg_file, 'r') as file:\n",
    "    for line in file:\n",
    "        words = line.split()\n",
    "        label.append(words[1])\n",
    "        \n",
    "\n",
    "x = label.count('0')\n",
    "print(x)"
   ]
  },
  {
   "cell_type": "code",
   "execution_count": null,
   "id": "36605edf-456b-41d5-bb6f-299858fa090a",
   "metadata": {},
   "outputs": [],
   "source": []
  }
 ],
 "metadata": {
  "kernelspec": {
   "display_name": "Python 3",
   "language": "python",
   "name": "python3"
  },
  "language_info": {
   "codemirror_mode": {
    "name": "ipython",
    "version": 3
   },
   "file_extension": ".py",
   "mimetype": "text/x-python",
   "name": "python",
   "nbconvert_exporter": "python",
   "pygments_lexer": "ipython3",
   "version": "3.8.8"
  }
 },
 "nbformat": 4,
 "nbformat_minor": 5
}
