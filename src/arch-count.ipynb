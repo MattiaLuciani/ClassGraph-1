{
 "cells": [
  {
   "cell_type": "code",
   "execution_count": 12,
   "id": "690b35a3-fc4e-4bff-be35-0cc9dd77e2a5",
   "metadata": {},
   "outputs": [
    {
     "ename": "SyntaxError",
     "evalue": "EOL while scanning string literal (<ipython-input-12-b731f1c698fa>, line 1)",
     "output_type": "error",
     "traceback": [
      "\u001b[0;36m  File \u001b[0;32m\"<ipython-input-12-b731f1c698fa>\"\u001b[0;36m, line \u001b[0;32m1\u001b[0m\n\u001b[0;31m    asqg_file = '/Users/mattialuciani/Desktop/università_magistrale/bioinformatics/tesi/coverage-real/SRR7585901_DBKraken2.res\u001b[0m\n\u001b[0m                                                                                                                               ^\u001b[0m\n\u001b[0;31mSyntaxError\u001b[0m\u001b[0;31m:\u001b[0m EOL while scanning string literal\n"
     ]
    }
   ],
   "source": [
    "asqg_file = '/Users/mattialuciani/Desktop/università_magistrale/bioinformatics/tesi/minimap2_SRR7585901-9.asqg'\n",
    "c = 0\n",
    "with open(asqg_file, 'r') as file:\n",
    "    for line in file:\n",
    "            c += 1\n",
    "    print(c)"
   ]
  },
  {
   "cell_type": "code",
   "execution_count": 11,
   "id": "9124d04c-3a7b-4b5e-8547-4ef6d488b908",
   "metadata": {},
   "outputs": [
    {
     "data": {
      "text/plain": [
       "60.34408090812029"
      ]
     },
     "execution_count": 11,
     "metadata": {},
     "output_type": "execute_result"
    }
   ],
   "source": [
    "9451148/763335 "
   ]
  },
  {
   "cell_type": "code",
   "execution_count": null,
   "id": "72c7aeca-58a4-4efd-baf2-20f16099dbc2",
   "metadata": {},
   "outputs": [],
   "source": [
    "/1595637 "
   ]
  },
  {
   "cell_type": "code",
   "execution_count": null,
   "id": "44f41afe-9b1b-4af8-9adb-e2c9f93fb9b2",
   "metadata": {},
   "outputs": [],
   "source": []
  }
 ],
 "metadata": {
  "kernelspec": {
   "display_name": "Python 3",
   "language": "python",
   "name": "python3"
  },
  "language_info": {
   "codemirror_mode": {
    "name": "ipython",
    "version": 3
   },
   "file_extension": ".py",
   "mimetype": "text/x-python",
   "name": "python",
   "nbconvert_exporter": "python",
   "pygments_lexer": "ipython3",
   "version": "3.8.8"
  }
 },
 "nbformat": 4,
 "nbformat_minor": 5
}
