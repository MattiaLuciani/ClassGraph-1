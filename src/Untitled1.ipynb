{
 "cells": [
  {
   "cell_type": "code",
   "execution_count": null,
   "id": "a31fbc4f-f9c0-40e0-a76a-620dedba861b",
   "metadata": {},
   "outputs": [
    {
     "name": "stdout",
     "output_type": "stream",
     "text": [
      "1187863\n"
     ]
    },
    {
     "ename": "IndexError",
     "evalue": "string index out of range",
     "output_type": "error",
     "traceback": [
      "\u001b[0;31m---------------------------------------------------------------------------\u001b[0m",
      "\u001b[0;31mIndexError\u001b[0m                                Traceback (most recent call last)",
      "\u001b[0;32m<ipython-input-2-1a6b0e2aefe3>\u001b[0m in \u001b[0;36m<module>\u001b[0;34m\u001b[0m\n\u001b[1;32m      6\u001b[0m     \u001b[0;32mfor\u001b[0m \u001b[0mi\u001b[0m \u001b[0;32min\u001b[0m \u001b[0mrange\u001b[0m\u001b[0;34m(\u001b[0m\u001b[0mlen\u001b[0m\u001b[0;34m(\u001b[0m\u001b[0mdata\u001b[0m\u001b[0;34m)\u001b[0m\u001b[0;34m)\u001b[0m\u001b[0;34m:\u001b[0m\u001b[0;34m\u001b[0m\u001b[0;34m\u001b[0m\u001b[0m\n\u001b[1;32m      7\u001b[0m         \u001b[0mprint\u001b[0m\u001b[0;34m(\u001b[0m\u001b[0mlen\u001b[0m\u001b[0;34m(\u001b[0m\u001b[0mdata\u001b[0m\u001b[0;34m)\u001b[0m\u001b[0;34m)\u001b[0m\u001b[0;34m\u001b[0m\u001b[0;34m\u001b[0m\u001b[0m\n\u001b[0;32m----> 8\u001b[0;31m         \u001b[0;32mif\u001b[0m \u001b[0mint\u001b[0m\u001b[0;34m(\u001b[0m\u001b[0mdata\u001b[0m\u001b[0;34m[\u001b[0m\u001b[0mi\u001b[0m\u001b[0;34m]\u001b[0m\u001b[0;34m[\u001b[0m\u001b[0;36m1\u001b[0m\u001b[0;34m]\u001b[0m \u001b[0;34m!=\u001b[0m \u001b[0;36m0\u001b[0m\u001b[0;34m)\u001b[0m \u001b[0;32mand\u001b[0m \u001b[0mlen\u001b[0m\u001b[0;34m(\u001b[0m\u001b[0mdata\u001b[0m\u001b[0;34m[\u001b[0m\u001b[0mi\u001b[0m\u001b[0;34m]\u001b[0m\u001b[0;34m[\u001b[0m\u001b[0;36m2\u001b[0m\u001b[0;34m]\u001b[0m\u001b[0;34m)\u001b[0m \u001b[0;34m>\u001b[0m \u001b[0;36m0\u001b[0m\u001b[0;34m:\u001b[0m\u001b[0;34m\u001b[0m\u001b[0;34m\u001b[0m\u001b[0m\n\u001b[0m\u001b[1;32m      9\u001b[0m             \u001b[0;32mfor\u001b[0m \u001b[0mk\u001b[0m \u001b[0;32min\u001b[0m \u001b[0mrange\u001b[0m\u001b[0;34m(\u001b[0m\u001b[0mlen\u001b[0m\u001b[0;34m(\u001b[0m\u001b[0mdata\u001b[0m\u001b[0;34m[\u001b[0m\u001b[0mi\u001b[0m\u001b[0;34m]\u001b[0m\u001b[0;34m[\u001b[0m\u001b[0;36m2\u001b[0m\u001b[0;34m]\u001b[0m\u001b[0;34m)\u001b[0m\u001b[0;34m)\u001b[0m\u001b[0;34m:\u001b[0m\u001b[0;34m\u001b[0m\u001b[0;34m\u001b[0m\u001b[0m\n\u001b[1;32m     10\u001b[0m                 \u001b[0;31m# if the neighbour to be labelled don't have already a label\u001b[0m\u001b[0;34m\u001b[0m\u001b[0;34m\u001b[0m\u001b[0;34m\u001b[0m\u001b[0m\n",
      "\u001b[0;31mIndexError\u001b[0m: string index out of range"
     ]
    }
   ],
   "source": [
    "data = open(\"/Users/mattialuciani/ClassGraph/src/data.txt\", \"r\").read()\n",
    "max_iteration = 20\n",
    "for v in range(max_iteration):\n",
    "    # Nodes at level i-1 send info to their neighbours at level i\n",
    "    tolabel_count = 0\n",
    "    for i in range(len(data)):\n",
    "        print(len(data))\n",
    "        if int(data[i][1] != 0) and len(data[i][2]) > 0:\n",
    "            for k in range(len(data[i][2])):\n",
    "                # if the neighbour to be labelled don't have already a label\n",
    "                to_label = int(data[i][2][k][0])\n",
    "                if data[to_label][1] == 0:\n",
    "                    #print(data[to_label])\n",
    "                    tolabel_count += 1 #errore\n",
    "                    tmp = []\n",
    "                    tl_weight = data[i][2][k][1]\n",
    "                    label = data[i][1]\n",
    "                    tmp.append(tl_weight)\n",
    "                    tmp.append(label)\n",
    "                    data[to_label].append(tmp)\n",
    "            data[i][2] = []\n",
    "\n",
    "    if tolabel_count == 0:\n",
    "        break"
   ]
  },
  {
   "cell_type": "code",
   "execution_count": 16,
   "id": "8f3903e7-3c94-4232-83d9-e16f273e1bed",
   "metadata": {},
   "outputs": [
    {
     "name": "stdout",
     "output_type": "stream",
     "text": [
      "[851, 0.83]\n"
     ]
    }
   ],
   "source": [
    "tmp = [0.83, 851]\n",
    "[0.93, 851]\n",
    "[0.98, 851]\n",
    "[0.92, 851]\n",
    "[0.77, 851]\n",
    "[0.93, 909331]\n",
    "[0.87, 909331]\n",
    "[0.88, 909331]\n",
    "[0.91, 909331]\n",
    "[0.97, 909331]\n",
    "[0.77, 909331]\n",
    "[0.76, 851]\n",
    "[0.92, 909331]\n",
    "[0.37, 909331]\n",
    "[0.97, 909331]\n",
    "\n",
    "tmp.sort(reverse=True)\n",
    "\n",
    "print(tmp)\n",
    "#for i in range(len(tmp)):\n",
    " #   tmp.reverse()\n",
    " #   print('Reversed List:', tmp)"
   ]
  },
  {
   "cell_type": "code",
   "execution_count": 16,
   "id": "1508c11f-537b-451f-8b2f-e60c94c4ad7a",
   "metadata": {},
   "outputs": [
    {
     "name": "stdout",
     "output_type": "stream",
     "text": [
      "1188\n"
     ]
    }
   ],
   "source": [
    "list = []\n",
    "with open(\"/Users/mattialuciani/ClassGraph/outputexample1.res\", 'r') as f:\n",
    "    for line in f:\n",
    "        list.extend(line.split())\n",
    "    #final_list = set(list) to eliminate duplicates \n",
    "    count = list.count('0')\n",
    "    print(count)"
   ]
  },
  {
   "cell_type": "code",
   "execution_count": null,
   "id": "7b46c641-35b1-436b-9803-a29fdfcf0a2e",
   "metadata": {},
   "outputs": [],
   "source": []
  }
 ],
 "metadata": {
  "kernelspec": {
   "display_name": "Python 3",
   "language": "python",
   "name": "python3"
  },
  "language_info": {
   "codemirror_mode": {
    "name": "ipython",
    "version": 3
   },
   "file_extension": ".py",
   "mimetype": "text/x-python",
   "name": "python",
   "nbconvert_exporter": "python",
   "pygments_lexer": "ipython3",
   "version": "3.9.5"
  }
 },
 "nbformat": 4,
 "nbformat_minor": 5
}
