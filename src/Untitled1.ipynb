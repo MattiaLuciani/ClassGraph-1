{
 "cells": [
  {
   "cell_type": "code",
   "execution_count": 10,
   "id": "8f3903e7-3c94-4232-83d9-e16f273e1bed",
   "metadata": {},
   "outputs": [
    {
     "name": "stdout",
     "output_type": "stream",
     "text": [
      "3125000\n"
     ]
    }
   ],
   "source": [
    "with open('/Users/mattialuciani/Desktop/AlgoBio/SimDataset/strex_kraken2_250000.res') as myfile:\n",
    "    count = sum(1 for line in myfile)\n",
    "    print(count)"
   ]
  },
  {
   "cell_type": "code",
   "execution_count": 28,
   "id": "7b46c641-35b1-436b-9803-a29fdfcf0a2e",
   "metadata": {},
   "outputs": [
    {
     "ename": "TypeError",
     "evalue": "expected str, bytes or os.PathLike object, not TextIOWrapper",
     "output_type": "error",
     "traceback": [
      "\u001b[0;31m---------------------------------------------------------------------------\u001b[0m",
      "\u001b[0;31mTypeError\u001b[0m                                 Traceback (most recent call last)",
      "\u001b[0;32m<ipython-input-28-6c2627a99089>\u001b[0m in \u001b[0;36m<module>\u001b[0;34m\u001b[0m\n\u001b[1;32m      1\u001b[0m \u001b[0;32mwith\u001b[0m \u001b[0mopen\u001b[0m\u001b[0;34m(\u001b[0m\u001b[0;34m\"/Users/mattialuciani/Desktop/links.txt\"\u001b[0m\u001b[0;34m,\u001b[0m \u001b[0;34m'r'\u001b[0m\u001b[0;34m)\u001b[0m \u001b[0;32mas\u001b[0m \u001b[0mf\u001b[0m\u001b[0;34m:\u001b[0m\u001b[0;34m\u001b[0m\u001b[0;34m\u001b[0m\u001b[0m\n\u001b[0;32m----> 2\u001b[0;31m     \u001b[0mlines\u001b[0m \u001b[0;34m=\u001b[0m \u001b[0;34m[\u001b[0m\u001b[0mline\u001b[0m\u001b[0;34m.\u001b[0m\u001b[0mrstrip\u001b[0m\u001b[0;34m(\u001b[0m\u001b[0;34m'\\n'\u001b[0m\u001b[0;34m)\u001b[0m \u001b[0;32mfor\u001b[0m \u001b[0mline\u001b[0m \u001b[0;32min\u001b[0m \u001b[0mopen\u001b[0m\u001b[0;34m(\u001b[0m\u001b[0mf\u001b[0m\u001b[0;34m)\u001b[0m\u001b[0;34m]\u001b[0m\u001b[0;34m\u001b[0m\u001b[0;34m\u001b[0m\u001b[0m\n\u001b[0m",
      "\u001b[0;31mTypeError\u001b[0m: expected str, bytes or os.PathLike object, not TextIOWrapper"
     ]
    }
   ],
   "source": [
    "\n",
    "with open(\"/Users/mattialuciani/Desktop/links.txt\", 'r') as f:\n",
    "    lines = [line.rstrip('\\n') for line in open(f)]\n"
   ]
  },
  {
   "cell_type": "code",
   "execution_count": 91,
   "id": "45e08553-9f3b-4bc2-aa44-4f991881d342",
   "metadata": {},
   "outputs": [
    {
     "name": "stdout",
     "output_type": "stream",
     "text": [
      "1188\n"
     ]
    }
   ],
   "source": [
    "list = []\n",
    "with open(\"/Users/mattialuciani/ClassGraph/outputexample1.res\", 'r') as f:\n",
    "    for line in f:\n",
    "        list.extend(line.split())\n",
    "    #final_list = set(list) to eliminate duplicates \n",
    "    count = list.count('0')\n",
    "    print(count)"
   ]
  },
  {
   "cell_type": "code",
   "execution_count": 65,
   "id": "71369ba4-ff32-4685-8a04-d51f948f4370",
   "metadata": {},
   "outputs": [
    {
     "data": {
      "text/plain": [
       "'1.3.4'"
      ]
     },
     "execution_count": 65,
     "metadata": {},
     "output_type": "execute_result"
    }
   ],
   "source": [
    "import pandas as pd\n",
    "pd.__version__"
   ]
  },
  {
   "cell_type": "code",
   "execution_count": 32,
   "id": "5dd24183-9921-42ce-a74e-e89c77f7503d",
   "metadata": {},
   "outputs": [
    {
     "name": "stdin",
     "output_type": "stream",
     "text": [
      "inserisci il file 250000 path /Users/mattialuciani/Desktop/AlgoBio/SimDataset/strex_centrifuge_250000.res\n",
      "inserisci il file 50000 path 1000.res\n"
     ]
    }
   ],
   "source": [
    "file = input(\"inserisci il file 250000 path\")\n",
    "reducedfile = input(\"inserisci il file 50000 path\")\n",
    "with open(file, 'r') as infile, open(reducedfile, 'w') as outfile:\n",
    "    i=0\n",
    "    for line in infile:\n",
    "        i += 1\n",
    "        if i>=1 and i<=5000:\n",
    "        \n",
    "            outfile.write(line)\n"
   ]
  },
  {
   "cell_type": "code",
   "execution_count": 69,
   "id": "982a8805-43fb-4fc6-99b6-ffa3fb5603b8",
   "metadata": {},
   "outputs": [
    {
     "name": "stdout",
     "output_type": "stream",
     "text": [
      "6\n"
     ]
    }
   ],
   "source": [
    "import numpy as np\n",
    "arr = np.array([[[1, 2, 3], [4, 5, 6]], [[7, 8, 9], [10, 11, 12]]])\n",
    "\n",
    "print(arr[0, 1, 2])\n"
   ]
  },
  {
   "cell_type": "code",
   "execution_count": null,
   "id": "27ea3511-457e-47fe-9737-6b06549d8b2f",
   "metadata": {},
   "outputs": [],
   "source": [
    "\n"
   ]
  }
 ],
 "metadata": {
  "kernelspec": {
   "display_name": "Python 3",
   "language": "python",
   "name": "python3"
  },
  "language_info": {
   "codemirror_mode": {
    "name": "ipython",
    "version": 3
   },
   "file_extension": ".py",
   "mimetype": "text/x-python",
   "name": "python",
   "nbconvert_exporter": "python",
   "pygments_lexer": "ipython3",
   "version": "3.9.5"
  }
 },
 "nbformat": 4,
 "nbformat_minor": 5
}
