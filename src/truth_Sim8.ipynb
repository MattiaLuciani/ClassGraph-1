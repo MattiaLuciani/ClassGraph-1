{
 "cells": [
  {
   "cell_type": "code",
   "execution_count": 7,
   "id": "3f7999f9-18a8-4394-9ec6-938aaf3e296f",
   "metadata": {},
   "outputs": [],
   "source": [
    "#print lunghezza di ogni file \n",
    "import os, shutil\n",
    "\n",
    "name_file = []\n",
    "listfile = []\n",
    "num_file = 0\n",
    "list_num_reads = []\n",
    "c = 0\n",
    "\n",
    "directory = os.chdir(\"/Users/mattialuciani/Desktop/università_magistrale/bioinformatics/tesi/data_Sim/reads\")\n",
    "direct = \"/Users/mattialuciani/Desktop/università_magistrale/bioinformatics/tesi/data_Sim/reads/\"\n",
    "output_file = '/Users/mattialuciani/Desktop/università_magistrale/bioinformatics/tesi/truth_Sim_8'\n",
    "\n",
    "list_TaxId = [749927, 861360, 438753, 264462, 442563, 1045858, 1265757, 203119]\n",
    "\n",
    "for name_file in os.listdir():\n",
    "    \n",
    "    if name_file.endswith('.fastq'):\n",
    "        listfile.append(name_file)\n",
    "        listfile.sort()\n",
    "        num_file = num_file + 1\n",
    "\n",
    "for i in range(8):\n",
    "        with open(direct + listfile[i], 'r') as file:\n",
    "            reads_number = 0\n",
    "            for line in file:\n",
    "                if line.startswith(\"G\") or line.startswith(\"A\") or line.startswith(\"C\") or line.startswith(\"T\"):\n",
    "                    reads_number = reads_number + 1\n",
    "        list_num_reads.append(reads_number)\n",
    "\n",
    "with open(output_file, mode='w') as out_file:\n",
    "\n",
    "    for k in range(8):\n",
    "        for i in range(list_num_reads[k]):\n",
    "            c = c + 1\n",
    "            out_file.write(\"S0R\" + str(c) + \"\\t\" + str(list_TaxId[k]) + \"\\n\")"
   ]
  },
  {
   "cell_type": "code",
   "execution_count": null,
   "id": "f24f0e72-ebdc-405f-baa6-b4db43206f3b",
   "metadata": {},
   "outputs": [],
   "source": []
  },
  {
   "cell_type": "code",
   "execution_count": null,
   "id": "4f9b65bb-db05-4a67-b84a-a72bf5dba699",
   "metadata": {},
   "outputs": [],
   "source": []
  }
 ],
 "metadata": {
  "kernelspec": {
   "display_name": "Python 3",
   "language": "python",
   "name": "python3"
  },
  "language_info": {
   "codemirror_mode": {
    "name": "ipython",
    "version": 3
   },
   "file_extension": ".py",
   "mimetype": "text/x-python",
   "name": "python",
   "nbconvert_exporter": "python",
   "pygments_lexer": "ipython3",
   "version": "3.8.8"
  }
 },
 "nbformat": 4,
 "nbformat_minor": 5
}
