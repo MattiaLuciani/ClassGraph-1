{
 "cells": [
  {
   "cell_type": "code",
   "execution_count": 29,
   "id": "1f603a45-987b-4362-a6ad-e965f94adc42",
   "metadata": {},
   "outputs": [
    {
     "name": "stdout",
     "output_type": "stream",
     "text": [
      "['Amycolatopsis_mediterranei.fastq', 'Arthrobacter_arilaitensis.fastq', 'Azorhizobium_caulinodans.fastq', 'Bacillus_pacificus.fastq', 'Bdellovibrio_bacteriovorus.fastq', 'Bifidobacterium_adolescentis.fastq', 'Bifidobacterium_animalis.fastq', 'Brachyspira_intermedia.fastq', 'Candida_albicans.fastq', 'Candidatus_Pelagibacter_ubique.fastq', 'Clostridium_beijerinckii.fastq', 'Clostridium_tetani.fastq', 'Clostridium_thermocellum.fastq', 'Corynebacterium_ulcerans.fastq', 'Deinococcus_radiodurans.fastq', 'Ehrlichia_ruminantium.fastq', 'Erysipelothrix_rhusiopathiae.fastq', 'Faecalibacterium_prausnitzii.fastq', 'Fervidicoccus_fontis.fastq', 'Francisella_novicida.fastq', 'Fusobacterium_nucleatum.fastq', 'Haemophilus_parainfluenzae.fastq', 'Haemophilus_somnus.fastq', 'Halobacterium.fastq', 'Lactobacillus_fermentum.fastq', 'Lactobacillus_gasseri.fastq', 'Lawsonia_intracellularis.fastq', 'Metallosphaera_cuprina.fastq', 'Methanobrevibacter_smithii.fastq', 'Methanosarcina_barkeri.fastq', 'Micrococcus_luteus.fastq', 'Mycobacterium_bovis.fastq', 'Mycoplasma_gallisepticum.fastq', 'Nitrosococcus_watsonii.fastq', 'Paenibacillus_mucilaginosus.fastq', 'Photobacterium_profundum.fastq', 'Porphyromonas_gingivalis.fastq', 'Prevotella_corporis.fastq', 'Rhodobacter_sphaeroides.fastq', 'Rickettsia_prowazekii.fastq', 'Rickettsia_rickettsii.fastq', 'Roseburia_hominis.fastq', 'Saccharomyces_cerevisiae.fastq', 'Schaalia_odontolytica.fastq', 'Streptomyces_scabiei.fastq', 'Symbiobacterium_thermophilum.fastq', 'Thermococcus_sibiricus.fastq', 'Variovorax_paradoxus.fastq', 'Veillonella_rogosae.fastq', 'Xanthobacter_autotrophicus.fastq'] \n",
      "\n"
     ]
    },
    {
     "data": {
      "text/plain": [
       "'\\nwith open(output_file, mode=\\'w\\') as out_file:\\n    for i in range(50):\\n        with open(direct + listfile[i], \\'r\\') as file:\\n            for line in file:\\n                if line.startswith(\"G\") or line.startswith(\"A\") or line.startswith(\"C\") or line.startswith(\"T\"):\\n                    out_file.write(\">S0R\" + str(reads_number) + \"\\n\" + str(line) + \"\\n\")\\n                    reads_number = reads_number + 1\\n'"
      ]
     },
     "execution_count": 29,
     "metadata": {},
     "output_type": "execute_result"
    },
    {
     "name": "stdout",
     "output_type": "stream",
     "text": [
      "ERROR! Session/line number was not unique in database. History logging moved to new session 127\n"
     ]
    }
   ],
   "source": [
    "#print lunghezza di ogni file \n",
    "import os, shutil\n",
    "\n",
    "name_file = []\n",
    "listfile = []\n",
    "num_file = 0\n",
    "list_num_reads = []\n",
    "c = 0\n",
    "reads_number = 0\n",
    "directory = os.chdir(\"/Users/mattialuciani/Desktop/università_magistrale/bioinformatics/tesi/data_Sim/reads_50\")\n",
    "direct = \"/Users/mattialuciani/Desktop/università_magistrale/bioinformatics/tesi/data_Sim/reads_50\"\n",
    "output_file = '/Volumes/SSD 1/Sim_50.fasta'\n",
    "\n",
    "for name_file in os.listdir():\n",
    "    \n",
    "    if name_file.endswith('.fastq'):\n",
    "        listfile.append(name_file)\n",
    "        listfile.sort()\n",
    "        num_file = num_file + 1\n",
    "        \n",
    "with open(output_file, mode='w') as out_file:\n",
    "    for i in range(50):\n",
    "        with open(direct + listfile[i], 'r') as file:\n",
    "            for line in file:\n",
    "                if line.startswith(\"G\") or line.startswith(\"A\") or line.startswith(\"C\") or line.startswith(\"T\"):\n",
    "                    out_file.write(\">S0R\" + str(reads_number) + \"\\n\" + str(line) + \"\\n\")\n",
    "                    reads_number = reads_number + 1\n"
   ]
  },
  {
   "cell_type": "code",
   "execution_count": null,
   "id": "0dab8d62-db2a-4498-b18e-84f7fd9e068d",
   "metadata": {},
   "outputs": [],
   "source": []
  }
 ],
 "metadata": {
  "kernelspec": {
   "display_name": "Python 3",
   "language": "python",
   "name": "python3"
  },
  "language_info": {
   "codemirror_mode": {
    "name": "ipython",
    "version": 3
   },
   "file_extension": ".py",
   "mimetype": "text/x-python",
   "name": "python",
   "nbconvert_exporter": "python",
   "pygments_lexer": "ipython3",
   "version": "3.8.8"
  }
 },
 "nbformat": 4,
 "nbformat_minor": 5
}
