{
 "cells": [
  {
   "cell_type": "code",
   "execution_count": null,
   "id": "3e94a49d-b40b-41e0-99b5-6a336ba50e08",
   "metadata": {
    "tags": []
   },
   "outputs": [],
   "source": [
    "list = []\n",
    "with open(\"/Users/mattialuciani/ClassGraph/outputexample1.res\", 'r') as f:\n",
    "    for line in f:\n",
    "        list.extend(line.split())\n",
    "    #final_list = set(list) to eliminate duplicates \n",
    "    count = list.count('0')\n",
    "    print(count)"
   ]
  },
  {
   "cell_type": "code",
   "execution_count": null,
   "id": "da4ab368-68da-4896-8dcf-67fd7a70a717",
   "metadata": {},
   "outputs": [],
   "source": []
  },
  {
   "cell_type": "code",
   "execution_count": null,
   "id": "43f9bec2-be0b-4e31-ab69-8c1914581e2e",
   "metadata": {},
   "outputs": [],
   "source": [
    "list = []\n",
    "with open(\"/Users/mattialuciani/ClassGraph/outputexample1.res\", 'r') as f:\n",
    "    for line in f:\n",
    "        list.extend(line.split())\n",
    "    #final_list = set(list) to eliminate duplicates \n",
    "    count = list.count('0')\n",
    "    print(count)"
   ]
  },
  {
   "cell_type": "code",
   "execution_count": null,
   "id": "65700cd3-0236-46a5-85f4-931b241dab22",
   "metadata": {},
   "outputs": [],
   "source": []
  }
 ],
 "metadata": {
  "kernelspec": {
   "display_name": "Python 3",
   "language": "python",
   "name": "python3"
  },
  "language_info": {
   "codemirror_mode": {
    "name": "ipython",
    "version": 3
   },
   "file_extension": ".py",
   "mimetype": "text/x-python",
   "name": "python",
   "nbconvert_exporter": "python",
   "pygments_lexer": "ipython3",
   "version": "3.9.5"
  }
 },
 "nbformat": 4,
 "nbformat_minor": 5
}
